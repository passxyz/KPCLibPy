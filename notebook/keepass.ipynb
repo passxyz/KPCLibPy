{
 "cells": [
  {
   "cell_type": "markdown",
   "metadata": {},
   "source": [
    "# KPCLibPy - KeePass Portable Class Library - Python\n",
    "This is a Python Library that can be used to access KeePass database using KPCLib and Python.NET"
   ]
  },
  {
   "cell_type": "code",
   "execution_count": 4,
   "metadata": {},
   "outputs": [
    {
     "data": {
      "text/plain": [
       "<System.Reflection.RuntimeAssembly object at 0x7f63721c3978>"
      ]
     },
     "execution_count": 4,
     "metadata": {},
     "output_type": "execute_result"
    }
   ],
   "source": [
    "import os\n",
    "import clr\n",
    "import sys\n",
    "\n",
    "# Set environment variables\n",
    "assembly_path = os.environ['HOME']+'/github/passxyz/KPCLib/KPCLib/bin/Debug/netstandard2.0/publish'\n",
    "sys.path.append(assembly_path)\n",
    "\n",
    "clr.AddReference(\"KPCLib\")\n",
    "clr.AddReference(\"SkiaSharp\")"
   ]
  },
  {
   "cell_type": "code",
   "execution_count": 13,
   "metadata": {},
   "outputs": [],
   "source": [
    "from KeePassLib import PwDatabase, PwGroup \n"
   ]
  },
  {
   "cell_type": "code",
   "execution_count": 15,
   "metadata": {},
   "outputs": [
    {
     "name": "stdout",
     "output_type": "stream",
     "text": [
      "<class 'KeePassLib.PwGroup'>\n"
     ]
    }
   ],
   "source": [
    "print(PwGroup)"
   ]
  },
  {
   "cell_type": "code",
   "execution_count": null,
   "metadata": {},
   "outputs": [],
   "source": []
  }
 ],
 "metadata": {
  "kernelspec": {
   "display_name": "Python 3",
   "language": "python",
   "name": "python3"
  },
  "language_info": {
   "codemirror_mode": {
    "name": "ipython",
    "version": 3
   },
   "file_extension": ".py",
   "mimetype": "text/x-python",
   "name": "python",
   "nbconvert_exporter": "python",
   "pygments_lexer": "ipython3",
   "version": "3.6.9"
  }
 },
 "nbformat": 4,
 "nbformat_minor": 2
}
