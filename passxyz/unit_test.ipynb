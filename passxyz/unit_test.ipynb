{
 "cells": [
  {
   "cell_type": "code",
   "execution_count": 16,
   "id": "north-river",
   "metadata": {},
   "outputs": [],
   "source": [
    "import sys\n",
    "\n",
    "import commands\n",
    "from nubia import Nubia, Options\n",
    "from nubia_plugin import NubiaExamplePlugin"
   ]
  },
  {
   "cell_type": "code",
   "execution_count": 19,
   "id": "further-ivory",
   "metadata": {},
   "outputs": [],
   "source": [
    "    plugin = NubiaExamplePlugin()\n",
    "    shell = Nubia(\n",
    "        name=\"nubia_passxyz\",\n",
    "        command_pkgs=commands,\n",
    "        plugin=plugin,\n",
    "        options=Options(\n",
    "            persistent_history=False, auto_execute_single_suggestions=False\n",
    "        ),\n",
    "    )"
   ]
  },
  {
   "cell_type": "code",
   "execution_count": 25,
   "id": "unsigned-mistress",
   "metadata": {},
   "outputs": [
    {
     "data": {
      "text/plain": [
       "['__call__',\n",
       " '__class__',\n",
       " '__delattr__',\n",
       " '__dir__',\n",
       " '__doc__',\n",
       " '__eq__',\n",
       " '__format__',\n",
       " '__func__',\n",
       " '__ge__',\n",
       " '__get__',\n",
       " '__getattribute__',\n",
       " '__gt__',\n",
       " '__hash__',\n",
       " '__init__',\n",
       " '__init_subclass__',\n",
       " '__le__',\n",
       " '__lt__',\n",
       " '__ne__',\n",
       " '__new__',\n",
       " '__reduce__',\n",
       " '__reduce_ex__',\n",
       " '__repr__',\n",
       " '__self__',\n",
       " '__setattr__',\n",
       " '__sizeof__',\n",
       " '__str__',\n",
       " '__subclasshook__']"
      ]
     },
     "execution_count": 25,
     "metadata": {},
     "output_type": "execute_result"
    }
   ],
   "source": [
    "dir(shell.run_cli)"
   ]
  },
  {
   "cell_type": "code",
   "execution_count": null,
   "id": "guilty-tokyo",
   "metadata": {},
   "outputs": [],
   "source": []
  }
 ],
 "metadata": {
  "kernelspec": {
   "display_name": "Python 3",
   "language": "python",
   "name": "python3"
  },
  "language_info": {
   "codemirror_mode": {
    "name": "ipython",
    "version": 3
   },
   "file_extension": ".py",
   "mimetype": "text/x-python",
   "name": "python",
   "nbconvert_exporter": "python",
   "pygments_lexer": "ipython3",
   "version": "3.7.3"
  }
 },
 "nbformat": 4,
 "nbformat_minor": 5
}
