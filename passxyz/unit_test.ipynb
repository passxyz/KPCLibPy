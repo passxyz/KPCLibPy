{
 "cells": [
  {
   "cell_type": "code",
   "execution_count": 1,
   "id": "accomplished-professional",
   "metadata": {},
   "outputs": [],
   "source": [
    "from commands.keepass import KeePass, IStatusLogger, get_homepath\n",
    "\n",
    "class ShowWarningsLogger(IStatusLogger):\n",
    "    __namespace__ = \"KPCLibPyTest1\"\n",
    "    \n",
    "    def StartLogging(self, strOperation, bWriteOperationToLog):\n",
    "        print('StartLogging {} {}'.format(strOperation, bWriteOperationToLog))\n",
    "        return\n",
    "    def EndLogging(self):\n",
    "        print('EndLogging')\n",
    "        return\n",
    "    def SetProgress(self, uPercent):\n",
    "        print('In progress {}'.format(uPercent))\n",
    "        return True\n",
    "    def SetText(self, strNewText, lsType):\n",
    "        print('SetText {} {}'.format(strNewText, lsType))\n",
    "        return True\n",
    "    def ContinueWork(self):\n",
    "        return True"
   ]
  },
  {
   "cell_type": "code",
   "execution_count": 2,
   "id": "adopted-being",
   "metadata": {},
   "outputs": [
    {
     "name": "stdout",
     "output_type": "stream",
     "text": [
      "In progress 100\n",
      "In progress 100\n"
     ]
    }
   ],
   "source": [
    "kp = KeePass()\n",
    "logger = ShowWarningsLogger()\n",
    "test_db_path = get_homepath() + '/utdb.kdbx'\n",
    "TEST_DB_KEY = \"12345\"\n",
    "\n",
    "kp.open(test_db_path, TEST_DB_KEY, logger)\n",
    "#kp.open()\n",
    "#dir(logger)"
   ]
  },
  {
   "cell_type": "code",
   "execution_count": 8,
   "id": "defined-light",
   "metadata": {},
   "outputs": [
    {
     "name": "stdout",
     "output_type": "stream",
     "text": [
      "PwEntry 'Sample Entry'\n",
      "PwEntry 'Sample Entry #2'\n"
     ]
    }
   ],
   "source": [
    "for entry in kp.current_group.Entries:\n",
    "    print(entry)"
   ]
  },
  {
   "cell_type": "code",
   "execution_count": 25,
   "id": "moral-apache",
   "metadata": {},
   "outputs": [
    {
     "name": "stdout",
     "output_type": "stream",
     "text": [
      "Password 12345\n",
      "Title Sample Entry #2\n",
      "URL https://keepass.info/help/kb/testform.html\n",
      "UserName Michael321\n"
     ]
    }
   ],
   "source": [
    "for x in entry.Strings:\n",
    "    print(x.Key, entry.Strings.ReadSafe(x.Key))"
   ]
  },
  {
   "cell_type": "code",
   "execution_count": 24,
   "id": "latest-lloyd",
   "metadata": {},
   "outputs": [
    {
     "data": {
      "text/plain": [
       "'Michael321'"
      ]
     },
     "execution_count": 24,
     "metadata": {},
     "output_type": "execute_result"
    }
   ],
   "source": [
    "#entry.Strings.ReadSafe(\"Password\")\n",
    "entry.Strings.ReadSafe(x.Key)"
   ]
  },
  {
   "cell_type": "code",
   "execution_count": 16,
   "id": "north-river",
   "metadata": {},
   "outputs": [],
   "source": [
    "import sys\n",
    "\n",
    "import commands\n",
    "from nubia import Nubia, Options\n",
    "from nubia_plugin import NubiaExamplePlugin"
   ]
  },
  {
   "cell_type": "code",
   "execution_count": 19,
   "id": "further-ivory",
   "metadata": {},
   "outputs": [],
   "source": [
    "    plugin = NubiaExamplePlugin()\n",
    "    shell = Nubia(\n",
    "        name=\"nubia_passxyz\",\n",
    "        command_pkgs=commands,\n",
    "        plugin=plugin,\n",
    "        options=Options(\n",
    "            persistent_history=False, auto_execute_single_suggestions=False\n",
    "        ),\n",
    "    )"
   ]
  },
  {
   "cell_type": "code",
   "execution_count": 25,
   "id": "unsigned-mistress",
   "metadata": {},
   "outputs": [
    {
     "data": {
      "text/plain": [
       "['__call__',\n",
       " '__class__',\n",
       " '__delattr__',\n",
       " '__dir__',\n",
       " '__doc__',\n",
       " '__eq__',\n",
       " '__format__',\n",
       " '__func__',\n",
       " '__ge__',\n",
       " '__get__',\n",
       " '__getattribute__',\n",
       " '__gt__',\n",
       " '__hash__',\n",
       " '__init__',\n",
       " '__init_subclass__',\n",
       " '__le__',\n",
       " '__lt__',\n",
       " '__ne__',\n",
       " '__new__',\n",
       " '__reduce__',\n",
       " '__reduce_ex__',\n",
       " '__repr__',\n",
       " '__self__',\n",
       " '__setattr__',\n",
       " '__sizeof__',\n",
       " '__str__',\n",
       " '__subclasshook__']"
      ]
     },
     "execution_count": 25,
     "metadata": {},
     "output_type": "execute_result"
    }
   ],
   "source": [
    "dir(shell.run_cli)"
   ]
  },
  {
   "cell_type": "code",
   "execution_count": null,
   "id": "guilty-tokyo",
   "metadata": {},
   "outputs": [],
   "source": []
  }
 ],
 "metadata": {
  "kernelspec": {
   "display_name": "Python 3",
   "language": "python",
   "name": "python3"
  },
  "language_info": {
   "codemirror_mode": {
    "name": "ipython",
    "version": 3
   },
   "file_extension": ".py",
   "mimetype": "text/x-python",
   "name": "python",
   "nbconvert_exporter": "python",
   "pygments_lexer": "ipython3",
   "version": "3.7.3"
  }
 },
 "nbformat": 4,
 "nbformat_minor": 5
}
