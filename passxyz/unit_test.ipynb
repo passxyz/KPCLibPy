{
 "cells": [
  {
   "cell_type": "code",
   "execution_count": 3,
   "id": "returning-sigma",
   "metadata": {},
   "outputs": [
    {
     "name": "stdout",
     "output_type": "stream",
     "text": [
      "open dbfile=utdb.kdbx password=12345\n"
     ]
    }
   ],
   "source": [
    "ut_db = \"utdb.kdbx\"\n",
    "ut_password = \"12345\"\n",
    "print(\"open dbfile={} password={}\".format(ut_db, ut_password))"
   ]
  },
  {
   "cell_type": "code",
   "execution_count": 2,
   "id": "pharmaceutical-italic",
   "metadata": {},
   "outputs": [
    {
     "data": {
      "text/plain": [
       "['__builtins__',\n",
       " '__cached__',\n",
       " '__doc__',\n",
       " '__file__',\n",
       " '__loader__',\n",
       " '__name__',\n",
       " '__package__',\n",
       " '__path__',\n",
       " '__spec__']"
      ]
     },
     "execution_count": 2,
     "metadata": {},
     "output_type": "execute_result"
    }
   ],
   "source": [
    "dir(tests)"
   ]
  },
  {
   "cell_type": "code",
   "execution_count": 1,
   "id": "accomplished-professional",
   "metadata": {},
   "outputs": [],
   "source": [
    "from commands.keepass import KeePass, IStatusLogger, get_homepath\n",
    "\n",
    "class ShowWarningsLogger(IStatusLogger):\n",
    "    __namespace__ = \"KPCLibPyTest1\"\n",
    "    \n",
    "    def StartLogging(self, strOperation, bWriteOperationToLog):\n",
    "        print('StartLogging {} {}'.format(strOperation, bWriteOperationToLog))\n",
    "        return\n",
    "    def EndLogging(self):\n",
    "        print('EndLogging')\n",
    "        return\n",
    "    def SetProgress(self, uPercent):\n",
    "        print('In progress {}'.format(uPercent))\n",
    "        return True\n",
    "    def SetText(self, strNewText, lsType):\n",
    "        print('SetText {} {}'.format(strNewText, lsType))\n",
    "        return True\n",
    "    def ContinueWork(self):\n",
    "        return True"
   ]
  },
  {
   "cell_type": "code",
   "execution_count": 2,
   "id": "adopted-being",
   "metadata": {},
   "outputs": [
    {
     "name": "stdout",
     "output_type": "stream",
     "text": [
      "In progress 100\n",
      "In progress 100\n"
     ]
    }
   ],
   "source": [
    "kp = KeePass()\n",
    "logger = ShowWarningsLogger()\n",
    "test_db_path = get_homepath() + '/utdb.kdbx'\n",
    "TEST_DB_KEY = \"12345\"\n",
    "\n",
    "kp.open(test_db_path, TEST_DB_KEY, logger)\n",
    "#kp.open()\n",
    "#dir(logger)"
   ]
  },
  {
   "cell_type": "code",
   "execution_count": 3,
   "id": "defined-light",
   "metadata": {},
   "outputs": [
    {
     "name": "stdout",
     "output_type": "stream",
     "text": [
      "+----------+-----------------------+\n",
      "| Key      | Value                 |\n",
      "+----------+-----------------------+\n",
      "| \u001b[35mNotes\u001b[0m    | Notes                 |\n",
      "| \u001b[35mPassword\u001b[0m | *******               |\n",
      "| \u001b[35mTitle\u001b[0m    | Sample Entry          |\n",
      "| \u001b[35mURL\u001b[0m      | https://keepass.info/ |\n",
      "| \u001b[35mUserName\u001b[0m | User Name             |\n",
      "+----------+-----------------------+\n",
      "+----------+--------------------------------------------+\n",
      "| Key      | Value                                      |\n",
      "+----------+--------------------------------------------+\n",
      "| \u001b[35mPassword\u001b[0m | *******                                    |\n",
      "| \u001b[35mTitle\u001b[0m    | Sample Entry #2                            |\n",
      "| \u001b[35mURL\u001b[0m      | https://keepass.info/help/kb/testform.html |\n",
      "| \u001b[35mUserName\u001b[0m | Michael321                                 |\n",
      "+----------+--------------------------------------------+\n"
     ]
    }
   ],
   "source": [
    "kp.is_hidden = True\n",
    "for entry in kp.current_group.Entries:\n",
    "    kp.print_entry(entry)"
   ]
  },
  {
   "cell_type": "code",
   "execution_count": 6,
   "id": "moral-apache",
   "metadata": {},
   "outputs": [
    {
     "name": "stdout",
     "output_type": "stream",
     "text": [
      "Password *******\n",
      "Title Sample Entry #2\n",
      "URL https://keepass.info/help/kb/testform.html\n",
      "UserName Michael321\n"
     ]
    }
   ],
   "source": [
    "def get_value(kp, entry, key):\n",
    "    if(entry.Strings.GetSafe(key).IsProtected):\n",
    "        return \"*******\"\n",
    "    else:\n",
    "        return entry.Strings.ReadSafe(key)\n",
    "    \n",
    "for x in entry.Strings:\n",
    "    print(x.Key, get_value(kp, entry, x.Key))"
   ]
  },
  {
   "cell_type": "code",
   "execution_count": 27,
   "id": "latest-lloyd",
   "metadata": {},
   "outputs": [
    {
     "data": {
      "text/plain": [
       "False"
      ]
     },
     "execution_count": 27,
     "metadata": {},
     "output_type": "execute_result"
    }
   ],
   "source": [
    "#entry.Strings.ReadSafe(\"Password\")\n",
    "entry.Strings.GetSafe(\"Title\").IsProtected"
   ]
  },
  {
   "cell_type": "code",
   "execution_count": 16,
   "id": "north-river",
   "metadata": {},
   "outputs": [],
   "source": [
    "import sys\n",
    "\n",
    "import commands\n",
    "from nubia import Nubia, Options\n",
    "from nubia_plugin import NubiaExamplePlugin"
   ]
  },
  {
   "cell_type": "code",
   "execution_count": 19,
   "id": "further-ivory",
   "metadata": {},
   "outputs": [],
   "source": [
    "    plugin = NubiaExamplePlugin()\n",
    "    shell = Nubia(\n",
    "        name=\"nubia_passxyz\",\n",
    "        command_pkgs=commands,\n",
    "        plugin=plugin,\n",
    "        options=Options(\n",
    "            persistent_history=False, auto_execute_single_suggestions=False\n",
    "        ),\n",
    "    )"
   ]
  },
  {
   "cell_type": "code",
   "execution_count": 25,
   "id": "unsigned-mistress",
   "metadata": {},
   "outputs": [
    {
     "data": {
      "text/plain": [
       "['__call__',\n",
       " '__class__',\n",
       " '__delattr__',\n",
       " '__dir__',\n",
       " '__doc__',\n",
       " '__eq__',\n",
       " '__format__',\n",
       " '__func__',\n",
       " '__ge__',\n",
       " '__get__',\n",
       " '__getattribute__',\n",
       " '__gt__',\n",
       " '__hash__',\n",
       " '__init__',\n",
       " '__init_subclass__',\n",
       " '__le__',\n",
       " '__lt__',\n",
       " '__ne__',\n",
       " '__new__',\n",
       " '__reduce__',\n",
       " '__reduce_ex__',\n",
       " '__repr__',\n",
       " '__self__',\n",
       " '__setattr__',\n",
       " '__sizeof__',\n",
       " '__str__',\n",
       " '__subclasshook__']"
      ]
     },
     "execution_count": 25,
     "metadata": {},
     "output_type": "execute_result"
    }
   ],
   "source": [
    "dir(shell.run_cli)"
   ]
  },
  {
   "cell_type": "code",
   "execution_count": 16,
   "id": "guilty-tokyo",
   "metadata": {},
   "outputs": [],
   "source": [
    "class KP_UT:\n",
    "    def __init__(self):\n",
    "        self._db = None\n",
    "        self._current_group = None\n",
    "        self._db_type = \"KeePass\"\n",
    "        \n",
    "    @property\n",
    "    def db_type(self):\n",
    "        \"\"\"\n",
    "        Getter of database type\n",
    "        The database type can be KeePass or PassXYZ\n",
    "        \"\"\"\n",
    "        return self._db_type\n",
    "\n",
    "    @db_type.setter\n",
    "    def db_type(self, db_t):\n",
    "        if db_t == \"KeePass\" or db_t == \"PassXYZ\":\n",
    "            self._db_type = db_t\n",
    "        else:\n",
    "            print(\"Unsupported database type\")\n",
    "\n",
    "kp = KP_UT()"
   ]
  },
  {
   "cell_type": "code",
   "execution_count": 17,
   "id": "incredible-pennsylvania",
   "metadata": {},
   "outputs": [
    {
     "data": {
      "text/plain": [
       "'KeePass'"
      ]
     },
     "execution_count": 17,
     "metadata": {},
     "output_type": "execute_result"
    }
   ],
   "source": [
    "kp.db_type"
   ]
  },
  {
   "cell_type": "code",
   "execution_count": 18,
   "id": "banner-death",
   "metadata": {},
   "outputs": [],
   "source": [
    "kp.db_type=\"PassXYZ\""
   ]
  },
  {
   "cell_type": "code",
   "execution_count": 19,
   "id": "compliant-click",
   "metadata": {},
   "outputs": [
    {
     "data": {
      "text/plain": [
       "'PassXYZ'"
      ]
     },
     "execution_count": 19,
     "metadata": {},
     "output_type": "execute_result"
    }
   ],
   "source": [
    "kp.db_type"
   ]
  },
  {
   "cell_type": "code",
   "execution_count": null,
   "id": "floral-locking",
   "metadata": {},
   "outputs": [],
   "source": []
  }
 ],
 "metadata": {
  "kernelspec": {
   "display_name": "kpclib",
   "language": "python",
   "name": "kpclib"
  },
  "language_info": {
   "codemirror_mode": {
    "name": "ipython",
    "version": 3
   },
   "file_extension": ".py",
   "mimetype": "text/x-python",
   "name": "python",
   "nbconvert_exporter": "python",
   "pygments_lexer": "ipython3",
   "version": "3.7.3"
  }
 },
 "nbformat": 4,
 "nbformat_minor": 5
}
