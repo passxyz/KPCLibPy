{
 "cells": [
  {
   "cell_type": "markdown",
   "metadata": {},
   "source": [
    "# KPCLibPy - KeePass Portable Class Library - Python\n",
    "This is a Python Library that can be used to access KeePass database using KPCLib and Python.NET"
   ]
  },
  {
   "cell_type": "markdown",
   "metadata": {},
   "source": [
    "## Configuration file support"
   ]
  },
  {
   "cell_type": "code",
   "execution_count": 19,
   "metadata": {},
   "outputs": [],
   "source": [
    "from pathlib import *\n",
    "from os import listdir, path\n",
    "from os.path import isfile, join\n",
    "\n",
    "import configparser\n",
    "\n",
    "def get_homepath():\n",
    "    config_file = str(Path.home())+'/.kpclibdb/kpclibpy.ini'\n",
    "\n",
    "    if path.exists(config_file):\n",
    "        config = configparser.ConfigParser()\n",
    "        config.read(config_file)\n",
    "        return config['DEFAULT']['homepath']\n",
    "    else:\n",
    "        return str(Path.home())+'/.kpclibdb'\n"
   ]
  },
  {
   "cell_type": "code",
   "execution_count": 22,
   "metadata": {},
   "outputs": [],
   "source": [
    "home_path = get_homepath()\n",
    "onlyfiles = [f for f in listdir(home_path) if isfile(join(home_path, f))]\n",
    "if re.match(r'[0-9]+.*\\.jpg', f)"
   ]
  },
  {
   "cell_type": "code",
   "execution_count": 31,
   "metadata": {},
   "outputs": [],
   "source": [
    "import fnmatch\n",
    "files = fnmatch.filter(listdir(home_path), \"*.kdbx\") + fnmatch.filter(listdir(home_path), \"*.xyz\")"
   ]
  },
  {
   "cell_type": "code",
   "execution_count": 32,
   "metadata": {},
   "outputs": [
    {
     "name": "stdout",
     "output_type": "stream",
     "text": [
      "['utdb.kdbx', 'pass_d_E8f4pEk.xyz']\n"
     ]
    }
   ],
   "source": [
    "print(files)"
   ]
  },
  {
   "cell_type": "code",
   "execution_count": 8,
   "metadata": {},
   "outputs": [
    {
     "data": {
      "text/plain": [
       "'/home/roger_ye/.venvs/kpclib'"
      ]
     },
     "execution_count": 8,
     "metadata": {},
     "output_type": "execute_result"
    }
   ],
   "source": [
    "config['DEFAULT']['homepath']"
   ]
  },
  {
   "cell_type": "code",
   "execution_count": 6,
   "metadata": {},
   "outputs": [],
   "source": [
    "import kpclibpy.kpclib\n",
    "from KeePassLib import PwDatabase, PwGroup\n",
    "from PassXYZLib import PxDefs, ItemType, ItemSubType"
   ]
  },
  {
   "cell_type": "code",
   "execution_count": 11,
   "metadata": {},
   "outputs": [
    {
     "name": "stdout",
     "output_type": "stream",
     "text": [
      "1\n"
     ]
    }
   ],
   "source": [
    "print(ItemType.PwGroup)"
   ]
  },
  {
   "cell_type": "markdown",
   "metadata": {},
   "source": [
    "## Execute test script in `test` folder"
   ]
  },
  {
   "cell_type": "code",
   "execution_count": 1,
   "metadata": {},
   "outputs": [
    {
     "name": "stdout",
     "output_type": "stream",
     "text": [
      "/home/roger_ye/KPCLibPy/test\n",
      "--- Item 0 ---\n",
      "Notes=Notes\n",
      "Password=Password\n",
      "Title=Sample Entry\n",
      "URL=https://keepass.info/\n",
      "UserName=User Name\n",
      "--- Item 1 ---\n",
      "Password=12345\n",
      "Title=Sample Entry #2\n",
      "URL=https://keepass.info/help/kb/testform.html\n",
      "UserName=Michael321\n",
      "/home/roger_ye/KPCLibPy\n"
     ]
    }
   ],
   "source": [
    "%cd test\n",
    "%run test.py\n",
    "%cd .."
   ]
  },
  {
   "cell_type": "markdown",
   "metadata": {},
   "source": [
    "## Unit Test of KPCLibPy"
   ]
  },
  {
   "cell_type": "code",
   "execution_count": 1,
   "metadata": {},
   "outputs": [],
   "source": [
    "import os\n",
    "import kpclibpy.kpclib\n",
    "\n",
    "from KeePassLib import PwDatabase, PwGroup \n",
    "from KeePassLib.Serialization import IOConnectionInfo\n",
    "from KeePassLib.Keys import CompositeKey, KcpPassword\n",
    "from KeePassLib.Interfaces import IStatusLogger\n",
    "from PassXYZLib import PxDefs, ItemType, ItemSubType\n",
    "\n",
    "class ShowWarningsLogger(IStatusLogger):\n",
    "    __namespace__ = \"KPCLibPyTest1\"\n",
    "    \n",
    "    def StartLogging(self, strOperation, bWriteOperationToLog):\n",
    "        print('StartLogging {} {}'.format(strOperation, bWriteOperationToLog))\n",
    "        return\n",
    "    def EndLogging(self):\n",
    "        print('EndLogging')\n",
    "        return\n",
    "    def SetProgress(self, uPercent):\n",
    "        print('In progress {}'.format(uPercent))\n",
    "        return True\n",
    "    def SetText(self, strNewText, lsType):\n",
    "        print('SetText {} {}'.format(strNewText, lsType))\n",
    "        return True\n",
    "    def ContinueWork(self):\n",
    "        return True\n",
    "\n",
    "class KeePassTest:\n",
    "    _keepass = None\n",
    "    _db = None\n",
    "    def __new__(cls, *args, **kwargs):\n",
    "        if not cls._keepass:\n",
    "            cls._keepass = super(KeePassTest, cls\n",
    "                ).__new__(cls, *args, **kwargs)\n",
    "        return cls._keepass\n",
    "    \n",
    "    def is_open(cls):\n",
    "        if not cls._db:\n",
    "            return False\n",
    "        else:\n",
    "            return True\n",
    "        \n",
    "    def open(self, db_path, password):\n",
    "        ioc = IOConnectionInfo.FromPath(db_path)\n",
    "        cmpKey = CompositeKey()\n",
    "        cmpKey.AddUserKey(KcpPassword(password))\n",
    "\n",
    "        self._db = PwDatabase()\n",
    "        swLogger = ShowWarningsLogger()\n",
    "        self._db.Open(ioc, cmpKey, swLogger)"
   ]
  },
  {
   "cell_type": "code",
   "execution_count": 2,
   "metadata": {},
   "outputs": [
    {
     "name": "stdout",
     "output_type": "stream",
     "text": [
      "In progress 100\n"
     ]
    }
   ],
   "source": [
    "test_db_path = 'test/pass_d_E8f4pEk.xyz'\n",
    "TEST_DB_KEY = \"12345\"\n",
    "kp = KeePassTest()\n",
    "kp.open(test_db_path, TEST_DB_KEY)"
   ]
  },
  {
   "cell_type": "code",
   "execution_count": 3,
   "metadata": {},
   "outputs": [
    {
     "data": {
      "text/plain": [
       "True"
      ]
     },
     "execution_count": 3,
     "metadata": {},
     "output_type": "execute_result"
    }
   ],
   "source": [
    "kp.is_open()"
   ]
  },
  {
   "cell_type": "markdown",
   "metadata": {},
   "source": [
    "## Print entries in root group"
   ]
  },
  {
   "cell_type": "code",
   "execution_count": 7,
   "metadata": {},
   "outputs": [
    {
     "name": "stdout",
     "output_type": "stream",
     "text": [
      "<-- Item 0 -->\n",
      "How to use PassXYZ ? is a Notes?  True\n",
      "<-- Item 1 -->\n",
      "KeePass Entry is a Notes?  False\n",
      "<-- Item 2 -->\n",
      "WebDAV is a Notes?  False\n",
      "UserName=\n",
      "Password=\n",
      "Email=\n",
      "WebDAV URL=\n",
      "es=\n",
      "le=WebDAV\n"
     ]
    }
   ],
   "source": [
    "from PassXYZLib import PxDefs\n",
    "def printEntry(kp):\n",
    "    for kp in entry.Strings:\n",
    "        print('{}={}'.format(PxDefs.DecodeKey(kp.Key), kp.Value.ReadString()))\n",
    "\n",
    "pg = kp._db.RootGroup\n",
    "i = 0\n",
    "for entry in pg.Entries:\n",
    "    print('<-- Item {} -->'.format(i))\n",
    "    #printEntry(entry)\n",
    "    print(entry.get_Name(), \"is a Notes? \", PxDefs.IsNotes(entry))\n",
    "    i = i + 1\n",
    "    if PxDefs.IsPxEntry(entry):\n",
    "        printEntry(entry)"
   ]
  },
  {
   "cell_type": "code",
   "execution_count": null,
   "metadata": {},
   "outputs": [],
   "source": []
  }
 ],
 "metadata": {
  "kernelspec": {
   "display_name": "Python 3",
   "language": "python",
   "name": "python3"
  },
  "language_info": {
   "codemirror_mode": {
    "name": "ipython",
    "version": 3
   },
   "file_extension": ".py",
   "mimetype": "text/x-python",
   "name": "python",
   "nbconvert_exporter": "python",
   "pygments_lexer": "ipython3",
   "version": "3.7.3"
  }
 },
 "nbformat": 4,
 "nbformat_minor": 2
}
