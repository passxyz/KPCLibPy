{
 "cells": [
  {
   "cell_type": "markdown",
   "metadata": {},
   "source": [
    "# KPCLibPy - KeePass Portable Class Library - Python\n",
    "This is a Python Library that can be used to access KeePass database using KPCLib and Python.NET"
   ]
  },
  {
   "cell_type": "markdown",
   "metadata": {},
   "source": [
    "## Configuration file support"
   ]
  },
  {
   "cell_type": "code",
   "execution_count": 1,
   "metadata": {},
   "outputs": [
    {
     "name": "stdout",
     "output_type": "stream",
     "text": [
      "Debug build  1.1.5.dev0\n"
     ]
    }
   ],
   "source": [
    "import os\n",
    "import kpclibpy.kpclib\n",
    "import PassXYZLib"
   ]
  },
  {
   "cell_type": "code",
   "execution_count": 2,
   "metadata": {},
   "outputs": [
    {
     "data": {
      "text/plain": [
       "['Close',\n",
       " 'Color',\n",
       " 'Compression',\n",
       " 'CurrentGroup',\n",
       " 'CurrentPath',\n",
       " 'CustomData',\n",
       " 'CustomIcons',\n",
       " 'DataCipherUuid',\n",
       " 'DefaultFolder',\n",
       " 'DefaultUserName',\n",
       " 'DefaultUserNameChanged',\n",
       " 'DeleteCustomIcons',\n",
       " 'DeleteDuplicateEntries',\n",
       " 'DeleteEmptyGroups',\n",
       " 'DeleteEntry',\n",
       " 'DeleteGroup',\n",
       " 'DeleteUnusedCustomIcons',\n",
       " 'DeletedObjects',\n",
       " 'Description',\n",
       " 'DescriptionChanged',\n",
       " 'DetachBinaries',\n",
       " 'EntryTemplatesGroup',\n",
       " 'EntryTemplatesGroupChanged',\n",
       " 'Equals',\n",
       " 'Finalize',\n",
       " 'FindByPath',\n",
       " 'GetCustomIcon',\n",
       " 'GetCustomIconIndex',\n",
       " 'GetHashCode',\n",
       " 'GetType',\n",
       " 'HashOfFileOnDisk',\n",
       " 'HashOfLastIO',\n",
       " 'HistoryMaxItems',\n",
       " 'HistoryMaxSize',\n",
       " 'IOConnectionInfo',\n",
       " 'IsOpen',\n",
       " 'IsParentGroup',\n",
       " 'KdfParameters',\n",
       " 'LastSelectedGroup',\n",
       " 'LastTopVisibleGroup',\n",
       " 'LocalizedAppName',\n",
       " 'MaintainBackups',\n",
       " 'MaintenanceHistoryDays',\n",
       " 'MasterKey',\n",
       " 'MasterKeyChangeForce',\n",
       " 'MasterKeyChangeForceOnce',\n",
       " 'MasterKeyChangeRec',\n",
       " 'MasterKeyChanged',\n",
       " 'MemberwiseClone',\n",
       " 'MemoryProtection',\n",
       " 'MergeIn',\n",
       " 'Modified',\n",
       " 'MoveEntry',\n",
       " 'MoveGroup',\n",
       " 'Name',\n",
       " 'NameChanged',\n",
       " 'New',\n",
       " 'Open',\n",
       " 'Overloads',\n",
       " 'PublicCustomData',\n",
       " 'RecycleBinChanged',\n",
       " 'RecycleBinEnabled',\n",
       " 'RecycleBinUuid',\n",
       " 'ReferenceEquals',\n",
       " 'RootGroup',\n",
       " 'Save',\n",
       " 'SaveAs',\n",
       " 'SettingsChanged',\n",
       " 'ToString',\n",
       " 'UINeedsIconUpdate',\n",
       " 'UseFileLocks',\n",
       " 'UseFileTransactions',\n",
       " '__call__',\n",
       " '__class__',\n",
       " '__delattr__',\n",
       " '__delitem__',\n",
       " '__dir__',\n",
       " '__doc__',\n",
       " '__eq__',\n",
       " '__format__',\n",
       " '__ge__',\n",
       " '__getattribute__',\n",
       " '__getitem__',\n",
       " '__gt__',\n",
       " '__hash__',\n",
       " '__init__',\n",
       " '__init_subclass__',\n",
       " '__iter__',\n",
       " '__le__',\n",
       " '__lt__',\n",
       " '__module__',\n",
       " '__ne__',\n",
       " '__new__',\n",
       " '__overloads__',\n",
       " '__reduce__',\n",
       " '__reduce_ex__',\n",
       " '__repr__',\n",
       " '__setattr__',\n",
       " '__setitem__',\n",
       " '__sizeof__',\n",
       " '__str__',\n",
       " '__subclasshook__',\n",
       " 'get_Color',\n",
       " 'get_Compression',\n",
       " 'get_CurrentGroup',\n",
       " 'get_CurrentPath',\n",
       " 'get_CustomData',\n",
       " 'get_CustomIcons',\n",
       " 'get_DataCipherUuid',\n",
       " 'get_DefaultFolder',\n",
       " 'get_DefaultUserName',\n",
       " 'get_DefaultUserNameChanged',\n",
       " 'get_DeletedObjects',\n",
       " 'get_Description',\n",
       " 'get_DescriptionChanged',\n",
       " 'get_DetachBinaries',\n",
       " 'get_EntryTemplatesGroup',\n",
       " 'get_EntryTemplatesGroupChanged',\n",
       " 'get_HashOfFileOnDisk',\n",
       " 'get_HashOfLastIO',\n",
       " 'get_HistoryMaxItems',\n",
       " 'get_HistoryMaxSize',\n",
       " 'get_IOConnectionInfo',\n",
       " 'get_IsOpen',\n",
       " 'get_KdfParameters',\n",
       " 'get_LastSelectedGroup',\n",
       " 'get_LastTopVisibleGroup',\n",
       " 'get_LocalizedAppName',\n",
       " 'get_MaintenanceHistoryDays',\n",
       " 'get_MasterKey',\n",
       " 'get_MasterKeyChangeForce',\n",
       " 'get_MasterKeyChangeForceOnce',\n",
       " 'get_MasterKeyChangeRec',\n",
       " 'get_MasterKeyChanged',\n",
       " 'get_MemoryProtection',\n",
       " 'get_Modified',\n",
       " 'get_Name',\n",
       " 'get_NameChanged',\n",
       " 'get_PublicCustomData',\n",
       " 'get_RecycleBinChanged',\n",
       " 'get_RecycleBinEnabled',\n",
       " 'get_RecycleBinUuid',\n",
       " 'get_RootGroup',\n",
       " 'get_SettingsChanged',\n",
       " 'get_UINeedsIconUpdate',\n",
       " 'get_UseFileLocks',\n",
       " 'get_UseFileTransactions',\n",
       " 'set_Color',\n",
       " 'set_Compression',\n",
       " 'set_CurrentGroup',\n",
       " 'set_DataCipherUuid',\n",
       " 'set_DefaultFolder',\n",
       " 'set_DefaultUserName',\n",
       " 'set_DefaultUserNameChanged',\n",
       " 'set_Description',\n",
       " 'set_DescriptionChanged',\n",
       " 'set_DetachBinaries',\n",
       " 'set_EntryTemplatesGroup',\n",
       " 'set_EntryTemplatesGroupChanged',\n",
       " 'set_HistoryMaxItems',\n",
       " 'set_HistoryMaxSize',\n",
       " 'set_KdfParameters',\n",
       " 'set_LastSelectedGroup',\n",
       " 'set_LastTopVisibleGroup',\n",
       " 'set_LocalizedAppName',\n",
       " 'set_MaintenanceHistoryDays',\n",
       " 'set_MasterKey',\n",
       " 'set_MasterKeyChangeForce',\n",
       " 'set_MasterKeyChangeForceOnce',\n",
       " 'set_MasterKeyChangeRec',\n",
       " 'set_MasterKeyChanged',\n",
       " 'set_MemoryProtection',\n",
       " 'set_Modified',\n",
       " 'set_Name',\n",
       " 'set_NameChanged',\n",
       " 'set_RecycleBinChanged',\n",
       " 'set_RecycleBinEnabled',\n",
       " 'set_RecycleBinUuid',\n",
       " 'set_RootGroup',\n",
       " 'set_SettingsChanged',\n",
       " 'set_UINeedsIconUpdate',\n",
       " 'set_UseFileLocks',\n",
       " 'set_UseFileTransactions']"
      ]
     },
     "execution_count": 2,
     "metadata": {},
     "output_type": "execute_result"
    }
   ],
   "source": [
    "dir(PassXYZLib.PxDatabase)"
   ]
  },
  {
   "cell_type": "code",
   "execution_count": null,
   "metadata": {},
   "outputs": [],
   "source": [
    "Db = PassXYZLib.PxDatabase()\n",
    "Db.set_DefaultFolder(\".\")"
   ]
  },
  {
   "cell_type": "code",
   "execution_count": 19,
   "metadata": {},
   "outputs": [],
   "source": [
    "from pathlib import *\n",
    "from os import listdir, path\n",
    "from os.path import isfile, join\n",
    "\n",
    "import configparser\n",
    "\n",
    "def get_homepath():\n",
    "    config_file = str(Path.home())+'/.kpclibdb/kpclibpy.ini'\n",
    "\n",
    "    if path.exists(config_file):\n",
    "        config = configparser.ConfigParser()\n",
    "        config.read(config_file)\n",
    "        return config['DEFAULT']['homepath']\n",
    "    else:\n",
    "        return str(Path.home())+'/.kpclibdb'\n"
   ]
  },
  {
   "cell_type": "code",
   "execution_count": 22,
   "metadata": {},
   "outputs": [],
   "source": [
    "home_path = get_homepath()\n",
    "onlyfiles = [f for f in listdir(home_path) if isfile(join(home_path, f))]\n",
    "if re.match(r'[0-9]+.*\\.jpg', f)"
   ]
  },
  {
   "cell_type": "code",
   "execution_count": 31,
   "metadata": {},
   "outputs": [],
   "source": [
    "import fnmatch\n",
    "files = fnmatch.filter(listdir(home_path), \"*.kdbx\") + fnmatch.filter(listdir(home_path), \"*.xyz\")"
   ]
  },
  {
   "cell_type": "code",
   "execution_count": 32,
   "metadata": {},
   "outputs": [
    {
     "name": "stdout",
     "output_type": "stream",
     "text": [
      "['utdb.kdbx', 'pass_d_E8f4pEk.xyz']\n"
     ]
    }
   ],
   "source": [
    "print(files)"
   ]
  },
  {
   "cell_type": "code",
   "execution_count": 8,
   "metadata": {},
   "outputs": [
    {
     "data": {
      "text/plain": [
       "'/home/roger_ye/.venvs/kpclib'"
      ]
     },
     "execution_count": 8,
     "metadata": {},
     "output_type": "execute_result"
    }
   ],
   "source": [
    "config['DEFAULT']['homepath']"
   ]
  },
  {
   "cell_type": "code",
   "execution_count": 6,
   "metadata": {},
   "outputs": [],
   "source": [
    "import kpclibpy.kpclib\n",
    "from KeePassLib import PwDatabase, PwGroup\n",
    "from PassXYZLib import PxDefs, ItemType, ItemSubType"
   ]
  },
  {
   "cell_type": "code",
   "execution_count": 11,
   "metadata": {},
   "outputs": [
    {
     "name": "stdout",
     "output_type": "stream",
     "text": [
      "1\n"
     ]
    }
   ],
   "source": [
    "print(ItemType.PwGroup)"
   ]
  },
  {
   "cell_type": "markdown",
   "metadata": {},
   "source": [
    "## Execute test script in `test` folder"
   ]
  },
  {
   "cell_type": "code",
   "execution_count": 1,
   "metadata": {},
   "outputs": [
    {
     "name": "stdout",
     "output_type": "stream",
     "text": [
      "/home/roger_ye/KPCLibPy/test\n",
      "--- Item 0 ---\n",
      "Notes=Notes\n",
      "Password=Password\n",
      "Title=Sample Entry\n",
      "URL=https://keepass.info/\n",
      "UserName=User Name\n",
      "--- Item 1 ---\n",
      "Password=12345\n",
      "Title=Sample Entry #2\n",
      "URL=https://keepass.info/help/kb/testform.html\n",
      "UserName=Michael321\n",
      "/home/roger_ye/KPCLibPy\n"
     ]
    }
   ],
   "source": [
    "%cd test\n",
    "%run test.py\n",
    "%cd .."
   ]
  },
  {
   "cell_type": "markdown",
   "metadata": {},
   "source": [
    "## Unit Test of KPCLibPy"
   ]
  },
  {
   "cell_type": "code",
   "execution_count": 1,
   "metadata": {},
   "outputs": [],
   "source": [
    "import os\n",
    "import kpclibpy.kpclib\n",
    "\n",
    "from KeePassLib import PwDatabase, PwGroup \n",
    "from KeePassLib.Serialization import IOConnectionInfo\n",
    "from KeePassLib.Keys import CompositeKey, KcpPassword\n",
    "from KeePassLib.Interfaces import IStatusLogger\n",
    "from PassXYZLib import PxDefs, ItemType, ItemSubType\n",
    "\n",
    "class ShowWarningsLogger(IStatusLogger):\n",
    "    __namespace__ = \"KPCLibPyTest1\"\n",
    "    \n",
    "    def StartLogging(self, strOperation, bWriteOperationToLog):\n",
    "        print('StartLogging {} {}'.format(strOperation, bWriteOperationToLog))\n",
    "        return\n",
    "    def EndLogging(self):\n",
    "        print('EndLogging')\n",
    "        return\n",
    "    def SetProgress(self, uPercent):\n",
    "        print('In progress {}'.format(uPercent))\n",
    "        return True\n",
    "    def SetText(self, strNewText, lsType):\n",
    "        print('SetText {} {}'.format(strNewText, lsType))\n",
    "        return True\n",
    "    def ContinueWork(self):\n",
    "        return True\n",
    "\n",
    "class KeePassTest:\n",
    "    _keepass = None\n",
    "    _db = None\n",
    "    def __new__(cls, *args, **kwargs):\n",
    "        if not cls._keepass:\n",
    "            cls._keepass = super(KeePassTest, cls\n",
    "                ).__new__(cls, *args, **kwargs)\n",
    "        return cls._keepass\n",
    "    \n",
    "    def is_open(cls):\n",
    "        if not cls._db:\n",
    "            return False\n",
    "        else:\n",
    "            return True\n",
    "        \n",
    "    def open(self, db_path, password):\n",
    "        ioc = IOConnectionInfo.FromPath(db_path)\n",
    "        cmpKey = CompositeKey()\n",
    "        cmpKey.AddUserKey(KcpPassword(password))\n",
    "\n",
    "        self._db = PwDatabase()\n",
    "        swLogger = ShowWarningsLogger()\n",
    "        self._db.Open(ioc, cmpKey, swLogger)"
   ]
  },
  {
   "cell_type": "code",
   "execution_count": 2,
   "metadata": {},
   "outputs": [
    {
     "name": "stdout",
     "output_type": "stream",
     "text": [
      "In progress 100\n"
     ]
    }
   ],
   "source": [
    "test_db_path = 'test/pass_d_E8f4pEk.xyz'\n",
    "TEST_DB_KEY = \"12345\"\n",
    "kp = KeePassTest()\n",
    "kp.open(test_db_path, TEST_DB_KEY)"
   ]
  },
  {
   "cell_type": "code",
   "execution_count": 3,
   "metadata": {},
   "outputs": [
    {
     "data": {
      "text/plain": [
       "True"
      ]
     },
     "execution_count": 3,
     "metadata": {},
     "output_type": "execute_result"
    }
   ],
   "source": [
    "kp.is_open()"
   ]
  },
  {
   "cell_type": "markdown",
   "metadata": {},
   "source": [
    "## Print entries in root group"
   ]
  },
  {
   "cell_type": "code",
   "execution_count": 7,
   "metadata": {},
   "outputs": [
    {
     "name": "stdout",
     "output_type": "stream",
     "text": [
      "<-- Item 0 -->\n",
      "How to use PassXYZ ? is a Notes?  True\n",
      "<-- Item 1 -->\n",
      "KeePass Entry is a Notes?  False\n",
      "<-- Item 2 -->\n",
      "WebDAV is a Notes?  False\n",
      "UserName=\n",
      "Password=\n",
      "Email=\n",
      "WebDAV URL=\n",
      "es=\n",
      "le=WebDAV\n"
     ]
    }
   ],
   "source": [
    "from PassXYZLib import PxDefs\n",
    "def printEntry(kp):\n",
    "    for kp in entry.Strings:\n",
    "        print('{}={}'.format(PxDefs.DecodeKey(kp.Key), kp.Value.ReadString()))\n",
    "\n",
    "pg = kp._db.RootGroup\n",
    "i = 0\n",
    "for entry in pg.Entries:\n",
    "    print('<-- Item {} -->'.format(i))\n",
    "    #printEntry(entry)\n",
    "    print(entry.get_Name(), \"is a Notes? \", PxDefs.IsNotes(entry))\n",
    "    i = i + 1\n",
    "    if PxDefs.IsPxEntry(entry):\n",
    "        printEntry(entry)"
   ]
  },
  {
   "cell_type": "code",
   "execution_count": null,
   "metadata": {},
   "outputs": [],
   "source": []
  }
 ],
 "metadata": {
  "kernelspec": {
   "display_name": "Python 3",
   "language": "python",
   "name": "python3"
  },
  "language_info": {
   "codemirror_mode": {
    "name": "ipython",
    "version": 3
   },
   "file_extension": ".py",
   "mimetype": "text/x-python",
   "name": "python",
   "nbconvert_exporter": "python",
   "pygments_lexer": "ipython3",
   "version": "3.7.3"
  }
 },
 "nbformat": 4,
 "nbformat_minor": 2
}
