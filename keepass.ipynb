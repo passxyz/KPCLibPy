{
 "cells": [
  {
   "cell_type": "markdown",
   "metadata": {},
   "source": [
    "# KPCLibPy - KeePass Portable Class Library - Python\n",
    "This is a Python Library that can be used to access KeePass database using KPCLib and Python.NET"
   ]
  },
  {
   "cell_type": "markdown",
   "metadata": {},
   "source": [
    "## Execute test script in `test` folder"
   ]
  },
  {
   "cell_type": "code",
   "execution_count": 1,
   "metadata": {},
   "outputs": [
    {
     "name": "stdout",
     "output_type": "stream",
     "text": [
      "/home/roger_ye/KPCLibPy/test\n",
      "--- Item 0 ---\n",
      "Notes=Notes\n",
      "Password=Password\n",
      "Title=Sample Entry\n",
      "URL=https://keepass.info/\n",
      "UserName=User Name\n",
      "--- Item 1 ---\n",
      "Password=12345\n",
      "Title=Sample Entry #2\n",
      "URL=https://keepass.info/help/kb/testform.html\n",
      "UserName=Michael321\n",
      "/home/roger_ye/KPCLibPy\n"
     ]
    }
   ],
   "source": [
    "%cd test\n",
    "%run test.py\n",
    "%cd .."
   ]
  },
  {
   "cell_type": "markdown",
   "metadata": {},
   "source": [
    "## Unit Test of KPCLibPy"
   ]
  },
  {
   "cell_type": "code",
   "execution_count": 1,
   "metadata": {},
   "outputs": [],
   "source": [
    "import os\n",
    "import kpclibpy"
   ]
  },
  {
   "cell_type": "markdown",
   "metadata": {},
   "source": [
    "## Import class from KeePassLib"
   ]
  },
  {
   "cell_type": "code",
   "execution_count": 2,
   "metadata": {},
   "outputs": [],
   "source": [
    "from KeePassLib import PwDatabase, PwGroup \n",
    "from KeePassLib.Serialization import IOConnectionInfo\n",
    "from KeePassLib.Keys import CompositeKey, KcpPassword\n",
    "from KeePassLib.Interfaces import IStatusLogger"
   ]
  },
  {
   "cell_type": "code",
   "execution_count": 3,
   "metadata": {},
   "outputs": [],
   "source": [
    "test_db_path = 'test/utdb.kdbx'\n",
    "ioc = IOConnectionInfo.FromPath(test_db_path)\n",
    "TEST_DB_KEY = \"12345\"\n",
    "cmpKey = CompositeKey()\n",
    "cmpKey.AddUserKey(KcpPassword(TEST_DB_KEY))\n",
    "\n",
    "pwDb = PwDatabase()"
   ]
  },
  {
   "cell_type": "code",
   "execution_count": 4,
   "metadata": {},
   "outputs": [],
   "source": [
    "class ShowWarningsLogger(IStatusLogger):\n",
    "    __namespace__ = \"KPCLibPy\"\n",
    "    \n",
    "    def StartLogging(self, strOperation, bWriteOperationToLog):\n",
    "        return\n",
    "    def EndLogging(self):\n",
    "        return\n",
    "    def SetProgress(self, uPercent):\n",
    "        return True\n",
    "    def SetText(self, strNewText, lsType):\n",
    "        return True\n",
    "    def ContinueWork():\n",
    "        return True\n",
    "    \n"
   ]
  },
  {
   "cell_type": "code",
   "execution_count": 5,
   "metadata": {},
   "outputs": [],
   "source": [
    "swLogger = ShowWarningsLogger()\n",
    "pwDb.Open(ioc, cmpKey, swLogger)"
   ]
  },
  {
   "cell_type": "markdown",
   "metadata": {},
   "source": [
    "## Print entries in root group"
   ]
  },
  {
   "cell_type": "code",
   "execution_count": 6,
   "metadata": {},
   "outputs": [
    {
     "name": "stdout",
     "output_type": "stream",
     "text": [
      "<-- Item 0 -->\n",
      "Notes=Notes\n",
      "Password=Password\n",
      "Title=Sample Entry\n",
      "URL=https://keepass.info/\n",
      "UserName=User Name\n",
      "<-- Item 1 -->\n",
      "Password=12345\n",
      "Title=Sample Entry #2\n",
      "URL=https://keepass.info/help/kb/testform.html\n",
      "UserName=Michael321\n"
     ]
    }
   ],
   "source": [
    "def printEntry(kp):\n",
    "    for kp in entry.Strings:\n",
    "        print('{}={}'.format(kp.Key, kp.Value.ReadString()))\n",
    "\n",
    "pg = pwDb.RootGroup\n",
    "i = 0\n",
    "for entry in pg.Entries:\n",
    "    print('<-- Item {} -->'.format(i))\n",
    "    printEntry(entry)\n",
    "    i = i + 1"
   ]
  },
  {
   "cell_type": "code",
   "execution_count": null,
   "metadata": {},
   "outputs": [],
   "source": []
  }
 ],
 "metadata": {
  "kernelspec": {
   "display_name": "Python 3",
   "language": "python",
   "name": "python3"
  },
  "language_info": {
   "codemirror_mode": {
    "name": "ipython",
    "version": 3
   },
   "file_extension": ".py",
   "mimetype": "text/x-python",
   "name": "python",
   "nbconvert_exporter": "python",
   "pygments_lexer": "ipython3",
   "version": "3.7.3"
  }
 },
 "nbformat": 4,
 "nbformat_minor": 2
}
