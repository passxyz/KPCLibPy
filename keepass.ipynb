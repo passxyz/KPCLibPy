{
 "cells": [
  {
   "cell_type": "markdown",
   "metadata": {},
   "source": [
    "# KPCLibPy - KeePass Portable Class Library - Python\n",
    "This is a Python Library that can be used to access KeePass database using KPCLib and Python.NET"
   ]
  },
  {
   "cell_type": "code",
   "execution_count": 15,
   "metadata": {},
   "outputs": [],
   "source": [
    "from passxyz.commands.keepass import KeePass, IStatusLogger"
   ]
  },
  {
   "cell_type": "code",
   "execution_count": 16,
   "metadata": {},
   "outputs": [
    {
     "data": {
      "text/plain": [
       "['ContinueWork',\n",
       " 'EndLogging',\n",
       " 'SetProgress',\n",
       " 'SetText',\n",
       " 'StartLogging',\n",
       " '__class__',\n",
       " '__delattr__',\n",
       " '__dir__',\n",
       " '__doc__',\n",
       " '__eq__',\n",
       " '__format__',\n",
       " '__ge__',\n",
       " '__getattribute__',\n",
       " '__gt__',\n",
       " '__hash__',\n",
       " '__init__',\n",
       " '__init_subclass__',\n",
       " '__iter__',\n",
       " '__le__',\n",
       " '__lt__',\n",
       " '__module__',\n",
       " '__ne__',\n",
       " '__new__',\n",
       " '__reduce__',\n",
       " '__reduce_ex__',\n",
       " '__repr__',\n",
       " '__setattr__',\n",
       " '__sizeof__',\n",
       " '__str__',\n",
       " '__subclasshook__']"
      ]
     },
     "execution_count": 16,
     "metadata": {},
     "output_type": "execute_result"
    }
   ],
   "source": [
    "dir(IStatusLogger)"
   ]
  },
  {
   "cell_type": "code",
   "execution_count": 12,
   "metadata": {},
   "outputs": [
    {
     "data": {
      "text/plain": [
       "False"
      ]
     },
     "execution_count": 12,
     "metadata": {},
     "output_type": "execute_result"
    }
   ],
   "source": [
    "o1.is_open()"
   ]
  },
  {
   "cell_type": "markdown",
   "metadata": {},
   "source": [
    "## Execute test script in `test` folder"
   ]
  },
  {
   "cell_type": "code",
   "execution_count": 1,
   "metadata": {},
   "outputs": [
    {
     "name": "stdout",
     "output_type": "stream",
     "text": [
      "/home/roger_ye/KPCLibPy/test\n",
      "--- Item 0 ---\n",
      "Notes=Notes\n",
      "Password=Password\n",
      "Title=Sample Entry\n",
      "URL=https://keepass.info/\n",
      "UserName=User Name\n",
      "--- Item 1 ---\n",
      "Password=12345\n",
      "Title=Sample Entry #2\n",
      "URL=https://keepass.info/help/kb/testform.html\n",
      "UserName=Michael321\n",
      "/home/roger_ye/KPCLibPy\n"
     ]
    }
   ],
   "source": [
    "%cd test\n",
    "%run test.py\n",
    "%cd .."
   ]
  },
  {
   "cell_type": "markdown",
   "metadata": {},
   "source": [
    "## Unit Test of KPCLibPy"
   ]
  },
  {
   "cell_type": "code",
   "execution_count": 1,
   "metadata": {},
   "outputs": [],
   "source": [
    "import os\n",
    "import passxyz.kpclibpy\n",
    "\n",
    "from KeePassLib import PwDatabase, PwGroup \n",
    "from KeePassLib.Serialization import IOConnectionInfo\n",
    "from KeePassLib.Keys import CompositeKey, KcpPassword\n",
    "from KeePassLib.Interfaces import IStatusLogger\n",
    "\n",
    "class ShowWarningsLogger(IStatusLogger):\n",
    "    __namespace__ = \"KPCLibPyTest1\"\n",
    "    \n",
    "    def StartLogging(self, strOperation, bWriteOperationToLog):\n",
    "        print('StartLogging {} {}'.format(strOperation, bWriteOperationToLog))\n",
    "        return\n",
    "    def EndLogging(self):\n",
    "        print('EndLogging')\n",
    "        return\n",
    "    def SetProgress(self, uPercent):\n",
    "        print('In progress {}'.format(uPercent))\n",
    "        return True\n",
    "    def SetText(self, strNewText, lsType):\n",
    "        print('SetText {} {}'.format(strNewText, lsType))\n",
    "        return True\n",
    "    def ContinueWork():\n",
    "        return True\n",
    "\n",
    "class KeePass:\n",
    "    _keepass = None\n",
    "    _db = None\n",
    "    def __new__(cls, *args, **kwargs):\n",
    "        if not cls._keepass:\n",
    "            cls._keepass = super(KeePass, cls\n",
    "                ).__new__(cls, *args, **kwargs)\n",
    "        return cls._keepass\n",
    "    \n",
    "    def is_open(cls):\n",
    "        if not cls._db:\n",
    "            return False\n",
    "        else:\n",
    "            return True\n",
    "        \n",
    "    def open(self, db_path, password):\n",
    "        ioc = IOConnectionInfo.FromPath(db_path)\n",
    "        cmpKey = CompositeKey()\n",
    "        cmpKey.AddUserKey(KcpPassword(password))\n",
    "\n",
    "        self._db = PwDatabase()\n",
    "        swLogger = ShowWarningsLogger()\n",
    "        self._db.Open(ioc, cmpKey, swLogger)"
   ]
  },
  {
   "cell_type": "code",
   "execution_count": 2,
   "metadata": {},
   "outputs": [
    {
     "name": "stdout",
     "output_type": "stream",
     "text": [
      "In progress 100\n"
     ]
    }
   ],
   "source": [
    "test_db_path = 'test/utdb.kdbx'\n",
    "TEST_DB_KEY = \"12345\"\n",
    "kp = KeePass()\n",
    "kp.open(test_db_path, TEST_DB_KEY)"
   ]
  },
  {
   "cell_type": "code",
   "execution_count": 3,
   "metadata": {},
   "outputs": [
    {
     "data": {
      "text/plain": [
       "True"
      ]
     },
     "execution_count": 3,
     "metadata": {},
     "output_type": "execute_result"
    }
   ],
   "source": [
    "kp.is_open()"
   ]
  },
  {
   "cell_type": "markdown",
   "metadata": {},
   "source": [
    "## Print entries in root group"
   ]
  },
  {
   "cell_type": "code",
   "execution_count": 4,
   "metadata": {},
   "outputs": [
    {
     "name": "stdout",
     "output_type": "stream",
     "text": [
      "<-- Item 0 -->\n",
      "Notes=Notes\n",
      "Password=Password\n",
      "Title=Sample Entry\n",
      "URL=https://keepass.info/\n",
      "UserName=User Name\n",
      "<-- Item 1 -->\n",
      "Password=12345\n",
      "Title=Sample Entry #2\n",
      "URL=https://keepass.info/help/kb/testform.html\n",
      "UserName=Michael321\n"
     ]
    }
   ],
   "source": [
    "def printEntry(kp):\n",
    "    for kp in entry.Strings:\n",
    "        print('{}={}'.format(kp.Key, kp.Value.ReadString()))\n",
    "\n",
    "pg = kp._db.RootGroup\n",
    "i = 0\n",
    "for entry in pg.Entries:\n",
    "    print('<-- Item {} -->'.format(i))\n",
    "    printEntry(entry)\n",
    "    i = i + 1"
   ]
  },
  {
   "cell_type": "code",
   "execution_count": null,
   "metadata": {},
   "outputs": [],
   "source": []
  }
 ],
 "metadata": {
  "kernelspec": {
   "display_name": "Python 3",
   "language": "python",
   "name": "python3"
  },
  "language_info": {
   "codemirror_mode": {
    "name": "ipython",
    "version": 3
   },
   "file_extension": ".py",
   "mimetype": "text/x-python",
   "name": "python",
   "nbconvert_exporter": "python",
   "pygments_lexer": "ipython3",
   "version": "3.7.3"
  }
 },
 "nbformat": 4,
 "nbformat_minor": 2
}
