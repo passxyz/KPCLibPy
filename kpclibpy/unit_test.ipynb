{
 "cells": [
  {
   "cell_type": "code",
   "execution_count": 1,
   "id": "pharmaceutical-italic",
   "metadata": {},
   "outputs": [
    {
     "name": "stdout",
     "output_type": "stream",
     "text": [
      "False\n",
      "1.2.0.0\n"
     ]
    }
   ],
   "source": [
    "import kpclibpy\n",
    "from PassXYZLib import PxDatabase, PxLibInfo\n",
    "from KeePassLib import SearchParameters, PwEntry\n",
    "from KeePassLib.Collections import PwObjectList\n",
    "from commands.keepass import KeePass, IStatusLogger, get_homepath, lsdb\n",
    "\n",
    "class ShowWarningsLogger(IStatusLogger):\n",
    "    __namespace__ = \"KPCLibPyTest1\"\n",
    "    \n",
    "    def StartLogging(self, strOperation, bWriteOperationToLog):\n",
    "        print('StartLogging {} {}'.format(strOperation, bWriteOperationToLog))\n",
    "        return\n",
    "    def EndLogging(self):\n",
    "        print('EndLogging')\n",
    "        return\n",
    "    def SetProgress(self, uPercent):\n",
    "        print('In progress {}'.format(uPercent))\n",
    "        return True\n",
    "    def SetText(self, strNewText, lsType):\n",
    "        print('SetText {} {}'.format(strNewText, lsType))\n",
    "        return True\n",
    "    def ContinueWork(self):\n",
    "        return True\n",
    "\n",
    "_db = PxDatabase()\n",
    "print(_db.IsOpen)\n",
    "print(PxLibInfo.Version)"
   ]
  },
  {
   "cell_type": "code",
   "execution_count": 2,
   "id": "accomplished-professional",
   "metadata": {},
   "outputs": [
    {
     "name": "stdout",
     "output_type": "stream",
     "text": [
      "In progress 100\n"
     ]
    }
   ],
   "source": [
    "kp = KeePass()\n",
    "logger = ShowWarningsLogger()\n",
    "test_db_path = get_homepath() + '/utdb.kdbx'\n",
    "TEST_DB_KEY = \"12345\"\n",
    "\n",
    "try:\n",
    "    kp.open(test_db_path, TEST_DB_KEY, logger)\n",
    "except:\n",
    "    print(\"The composite key is invalid!\")\n",
    "#kp.open()\n",
    "#dir(logger)"
   ]
  },
  {
   "cell_type": "code",
   "execution_count": 11,
   "id": "metallic-survey",
   "metadata": {},
   "outputs": [
    {
     "ename": "KeyError",
     "evalue": "1",
     "output_type": "error",
     "traceback": [
      "\u001b[0;31m---------------------------------------------------------------------------\u001b[0m",
      "\u001b[0;31mKeyError\u001b[0m                                  Traceback (most recent call last)",
      "\u001b[0;32m<ipython-input-11-4d26b62fdc10>\u001b[0m in \u001b[0;36m<module>\u001b[0;34m\u001b[0m\n\u001b[1;32m      1\u001b[0m \u001b[0mentries\u001b[0m \u001b[0;34m=\u001b[0m \u001b[0mkp\u001b[0m\u001b[0;34m.\u001b[0m\u001b[0mfind\u001b[0m\u001b[0;34m(\u001b[0m\u001b[0;34m\"README\"\u001b[0m\u001b[0;34m)\u001b[0m\u001b[0;34m\u001b[0m\u001b[0;34m\u001b[0m\u001b[0m\n\u001b[0;32m----> 2\u001b[0;31m \u001b[0mentries\u001b[0m\u001b[0;34m[\u001b[0m\u001b[0;36m1\u001b[0m\u001b[0;34m]\u001b[0m\u001b[0;34m\u001b[0m\u001b[0;34m\u001b[0m\u001b[0m\n\u001b[0m",
      "\u001b[0;31mKeyError\u001b[0m: 1"
     ]
    }
   ],
   "source": [
    "entries = kp.find(\"README\")\n",
    "entries[1]\n"
   ]
  },
  {
   "cell_type": "code",
   "execution_count": 10,
   "id": "thermal-british",
   "metadata": {},
   "outputs": [
    {
     "name": "stdout",
     "output_type": "stream",
     "text": [
      "Index\n",
      "README\n"
     ]
    }
   ],
   "source": [
    "for entry in entries:\n",
    "    print(entries[entry].Name)"
   ]
  },
  {
   "cell_type": "code",
   "execution_count": 3,
   "id": "adopted-being",
   "metadata": {},
   "outputs": [
    {
     "name": "stdout",
     "output_type": "stream",
     "text": [
      "PwEntry 'Index'\n",
      "PwEntry 'README'\n"
     ]
    }
   ],
   "source": [
    "sp = SearchParameters()\n",
    "sp.SearchString = \"README\"\n",
    "ol = PwObjectList[PwEntry]()\n",
    "kp.db.RootGroup.SearchEntries(sp, ol)\n",
    "#print(ol.UCount)\n",
    "for entry in ol:\n",
    "    print(entry)"
   ]
  },
  {
   "cell_type": "code",
   "execution_count": 5,
   "id": "needed-program",
   "metadata": {},
   "outputs": [
    {
     "name": "stdout",
     "output_type": "stream",
     "text": [
      "PwEntry 'README'\n"
     ]
    }
   ],
   "source": [
    "print(ol.GetAt(1))"
   ]
  },
  {
   "cell_type": "code",
   "execution_count": 11,
   "id": "found-tribe",
   "metadata": {},
   "outputs": [],
   "source": [
    "kp.update_entry(\"Index\", \"QQ\", \"123456789\")"
   ]
  },
  {
   "cell_type": "code",
   "execution_count": 12,
   "id": "defined-light",
   "metadata": {},
   "outputs": [
    {
     "name": "stdout",
     "output_type": "stream",
     "text": [
      "+----------+---------+\n",
      "| Key      | Value   |\n",
      "+----------+---------+\n",
      "| \u001b[33mNotes\u001b[0m    |         |\n",
      "| \u001b[33mPassword\u001b[0m | ******* |\n",
      "| \u001b[33mTitle\u001b[0m    | ICBC    |\n",
      "| \u001b[33mURL\u001b[0m      |         |\n",
      "| \u001b[33mUserName\u001b[0m | kpclib  |\n",
      "+----------+---------+\n",
      "+----------+---------+\n",
      "| Key      | Value   |\n",
      "+----------+---------+\n",
      "| \u001b[33mNotes\u001b[0m    |         |\n",
      "| \u001b[33mPassword\u001b[0m | ******* |\n",
      "| \u001b[33mTitle\u001b[0m    | BOC     |\n",
      "| \u001b[33mURL\u001b[0m      |         |\n",
      "| \u001b[33mUserName\u001b[0m | kpclib  |\n",
      "+----------+---------+\n",
      "+----------+----------------------+\n",
      "| Key      | Value                |\n",
      "+----------+----------------------+\n",
      "| \u001b[33mNotes\u001b[0m    | Updated on April 1st |\n",
      "| \u001b[33mPassword\u001b[0m | 11111                |\n",
      "| \u001b[33mQQ\u001b[0m       | 123456789            |\n",
      "| \u001b[33mTitle\u001b[0m    | Index                |\n",
      "| \u001b[33mURL\u001b[0m      | http://www.yahoo.com |\n",
      "| \u001b[33mUserName\u001b[0m | kpclib               |\n",
      "+----------+----------------------+\n"
     ]
    }
   ],
   "source": [
    "kp.is_hidden = True\n",
    "for entry in kp.current_group.Entries:\n",
    "    kp.print_entry(entry)"
   ]
  },
  {
   "cell_type": "code",
   "execution_count": 24,
   "id": "express-columbia",
   "metadata": {},
   "outputs": [
    {
     "data": {
      "text/plain": [
       "{'G2': <KeePassLib.PwGroup object at 0x7ff00577bd30>}"
      ]
     },
     "execution_count": 24,
     "metadata": {},
     "output_type": "execute_result"
    }
   ],
   "source": [
    "# Rename an entry\n",
    "#kp.entries[\"New entry\"].set_Name(\"NEntry\")\n",
    "#kp.groups[\"G1\"].set_Name(\"G2\")\n",
    "kp.groups"
   ]
  },
  {
   "cell_type": "code",
   "execution_count": 12,
   "id": "precious-klein",
   "metadata": {
    "scrolled": true
   },
   "outputs": [
    {
     "data": {
      "text/plain": [
       "'utdb/General/G1'"
      ]
     },
     "execution_count": 12,
     "metadata": {},
     "output_type": "execute_result"
    }
   ],
   "source": [
    "kp.db.CurrentGroup.GetFullPath('/', True)"
   ]
  },
  {
   "cell_type": "code",
   "execution_count": 26,
   "id": "professional-proxy",
   "metadata": {},
   "outputs": [],
   "source": [
    "def find_subgroup(current, name):\n",
    "    for gp in current.Groups:\n",
    "        if gp.get_Name() == name:\n",
    "            return gp\n"
   ]
  },
  {
   "cell_type": "code",
   "execution_count": 31,
   "id": "tropical-sheriff",
   "metadata": {},
   "outputs": [
    {
     "name": "stdout",
     "output_type": "stream",
     "text": [
      "cannot access G1a: No such file or directory\n"
     ]
    }
   ],
   "source": [
    "path = \"/General/G1a\"\n",
    "#for group in kp.current_group.Groups:\n",
    "#    print(group)\n",
    "\n",
    "path_list = path.split('/')\n",
    "current_group = kp.current_group\n",
    "if(len(path_list) > 0):\n",
    "    for item in path_list:\n",
    "        if item:\n",
    "            if current_group:\n",
    "                current_group = find_subgroup(current_group, item)\n",
    "            else:\n",
    "                break\n",
    "\n",
    "if current_group:\n",
    "    for group in current_group.Groups:\n",
    "        print(\"{}/\".format(group.get_Name()))\n",
    "    for entry in current_group.Entries:\n",
    "        print(\"{}\".format(entry.Strings.ReadSafe(\"Title\")))\n",
    "else:\n",
    "    print(\"cannot access {}: No such file or directory\".format(item))\n"
   ]
  },
  {
   "cell_type": "code",
   "execution_count": 6,
   "id": "moral-apache",
   "metadata": {},
   "outputs": [
    {
     "name": "stdout",
     "output_type": "stream",
     "text": [
      "Notes Notes\n",
      "Password *******\n",
      "Title Sample Entry\n",
      "URL https://keepass.info/\n",
      "UserName User Name\n"
     ]
    }
   ],
   "source": [
    "def get_value(kp, entry, key):\n",
    "    if(entry.Strings.GetSafe(key).IsProtected):\n",
    "        return \"*******\"\n",
    "    else:\n",
    "        return entry.Strings.ReadSafe(key)\n",
    "    \n",
    "for x in entry.Strings:\n",
    "    print(x.Key, get_value(kp, entry, x.Key))"
   ]
  },
  {
   "cell_type": "code",
   "execution_count": 8,
   "id": "latest-lloyd",
   "metadata": {},
   "outputs": [
    {
     "data": {
      "text/plain": [
       "False"
      ]
     },
     "execution_count": 8,
     "metadata": {},
     "output_type": "execute_result"
    }
   ],
   "source": [
    "#entry.Strings.ReadSafe(\"Password\")\n",
    "entry.Strings.GetSafe(\"Title\").IsProtected"
   ]
  },
  {
   "cell_type": "code",
   "execution_count": 16,
   "id": "north-river",
   "metadata": {},
   "outputs": [],
   "source": [
    "import sys\n",
    "\n",
    "import commands\n",
    "from nubia import Nubia, Options\n",
    "from nubia_plugin import NubiaExamplePlugin"
   ]
  },
  {
   "cell_type": "code",
   "execution_count": 19,
   "id": "further-ivory",
   "metadata": {},
   "outputs": [],
   "source": [
    "    plugin = NubiaExamplePlugin()\n",
    "    shell = Nubia(\n",
    "        name=\"nubia_passxyz\",\n",
    "        command_pkgs=commands,\n",
    "        plugin=plugin,\n",
    "        options=Options(\n",
    "            persistent_history=False, auto_execute_single_suggestions=False\n",
    "        ),\n",
    "    )"
   ]
  },
  {
   "cell_type": "code",
   "execution_count": 25,
   "id": "unsigned-mistress",
   "metadata": {},
   "outputs": [
    {
     "data": {
      "text/plain": [
       "['__call__',\n",
       " '__class__',\n",
       " '__delattr__',\n",
       " '__dir__',\n",
       " '__doc__',\n",
       " '__eq__',\n",
       " '__format__',\n",
       " '__func__',\n",
       " '__ge__',\n",
       " '__get__',\n",
       " '__getattribute__',\n",
       " '__gt__',\n",
       " '__hash__',\n",
       " '__init__',\n",
       " '__init_subclass__',\n",
       " '__le__',\n",
       " '__lt__',\n",
       " '__ne__',\n",
       " '__new__',\n",
       " '__reduce__',\n",
       " '__reduce_ex__',\n",
       " '__repr__',\n",
       " '__self__',\n",
       " '__setattr__',\n",
       " '__sizeof__',\n",
       " '__str__',\n",
       " '__subclasshook__']"
      ]
     },
     "execution_count": 25,
     "metadata": {},
     "output_type": "execute_result"
    }
   ],
   "source": [
    "dir(shell.run_cli)"
   ]
  },
  {
   "cell_type": "code",
   "execution_count": 16,
   "id": "guilty-tokyo",
   "metadata": {},
   "outputs": [],
   "source": [
    "class KP_UT:\n",
    "    def __init__(self):\n",
    "        self._db = None\n",
    "        self._current_group = None\n",
    "        self._db_type = \"KeePass\"\n",
    "        \n",
    "    @property\n",
    "    def db_type(self):\n",
    "        \"\"\"\n",
    "        Getter of database type\n",
    "        The database type can be KeePass or PassXYZ\n",
    "        \"\"\"\n",
    "        return self._db_type\n",
    "\n",
    "    @db_type.setter\n",
    "    def db_type(self, db_t):\n",
    "        if db_t == \"KeePass\" or db_t == \"PassXYZ\":\n",
    "            self._db_type = db_t\n",
    "        else:\n",
    "            print(\"Unsupported database type\")\n",
    "\n",
    "kp = KP_UT()"
   ]
  },
  {
   "cell_type": "code",
   "execution_count": 17,
   "id": "incredible-pennsylvania",
   "metadata": {},
   "outputs": [
    {
     "data": {
      "text/plain": [
       "'KeePass'"
      ]
     },
     "execution_count": 17,
     "metadata": {},
     "output_type": "execute_result"
    }
   ],
   "source": [
    "kp.db_type"
   ]
  },
  {
   "cell_type": "code",
   "execution_count": 18,
   "id": "banner-death",
   "metadata": {},
   "outputs": [],
   "source": [
    "kp.db_type=\"PassXYZ\""
   ]
  },
  {
   "cell_type": "code",
   "execution_count": 19,
   "id": "compliant-click",
   "metadata": {},
   "outputs": [
    {
     "data": {
      "text/plain": [
       "'PassXYZ'"
      ]
     },
     "execution_count": 19,
     "metadata": {},
     "output_type": "execute_result"
    }
   ],
   "source": [
    "kp.db_type"
   ]
  },
  {
   "cell_type": "code",
   "execution_count": null,
   "id": "floral-locking",
   "metadata": {},
   "outputs": [],
   "source": []
  }
 ],
 "metadata": {
  "kernelspec": {
   "display_name": "kpclib",
   "language": "python",
   "name": "kpclib"
  },
  "language_info": {
   "codemirror_mode": {
    "name": "ipython",
    "version": 3
   },
   "file_extension": ".py",
   "mimetype": "text/x-python",
   "name": "python",
   "nbconvert_exporter": "python",
   "pygments_lexer": "ipython3",
   "version": "3.7.3"
  }
 },
 "nbformat": 4,
 "nbformat_minor": 5
}
