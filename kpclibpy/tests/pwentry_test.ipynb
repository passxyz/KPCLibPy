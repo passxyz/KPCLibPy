{
 "cells": [
  {
   "cell_type": "code",
   "execution_count": 1,
   "id": "disturbed-survivor",
   "metadata": {},
   "outputs": [],
   "source": [
    "import sys\n",
    "from pathlib import *\n",
    "from os import listdir\n",
    "from os.path import isfile, join\n",
    "from prettytable import PrettyTable\n",
    "from termcolor import cprint, colored\n",
    "\n",
    "sys.path.append(\"../\")\n",
    "\n",
    "import kpclibpy\n",
    "from KeePassLib import PwGroup, PwEntry, Collections\n",
    "from KeePassLib.Serialization import IOConnectionInfo\n",
    "from KeePassLib.Keys import CompositeKey, KcpPassword, InvalidCompositeKeyException\n",
    "from KeePassLib.Interfaces import IStatusLogger\n",
    "from PassXYZLib import PxDatabase, PxLibInfo"
   ]
  },
  {
   "cell_type": "code",
   "execution_count": 3,
   "id": "eligible-density",
   "metadata": {},
   "outputs": [
    {
     "name": "stdout",
     "output_type": "stream",
     "text": [
      "4FE4F7D17CC3B24B835CB1F377B2A0F0\n"
     ]
    }
   ],
   "source": [
    "entry = PwEntry()\n",
    "print(entry.Uuid)"
   ]
  },
  {
   "cell_type": "code",
   "execution_count": 1,
   "id": "utility-emission",
   "metadata": {},
   "outputs": [],
   "source": [
    "import getpass"
   ]
  },
  {
   "cell_type": "code",
   "execution_count": 3,
   "id": "crude-cargo",
   "metadata": {},
   "outputs": [
    {
     "name": "stdout",
     "output_type": "stream",
     "text": [
      "Password:········\n",
      "12345\n"
     ]
    }
   ],
   "source": [
    "pswd = getpass.getpass('Password:')\n",
    "print(pswd)"
   ]
  },
  {
   "cell_type": "code",
   "execution_count": null,
   "id": "behind-visibility",
   "metadata": {},
   "outputs": [],
   "source": []
  }
 ],
 "metadata": {
  "kernelspec": {
   "display_name": "kpclib",
   "language": "python",
   "name": "kpclib"
  },
  "language_info": {
   "codemirror_mode": {
    "name": "ipython",
    "version": 3
   },
   "file_extension": ".py",
   "mimetype": "text/x-python",
   "name": "python",
   "nbconvert_exporter": "python",
   "pygments_lexer": "ipython3",
   "version": "3.7.3"
  }
 },
 "nbformat": 4,
 "nbformat_minor": 5
}
